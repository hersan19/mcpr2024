{
  "nbformat": 4,
  "nbformat_minor": 0,
  "metadata": {
    "colab": {
      "provenance": [],
      "include_colab_link": true
    },
    "kernelspec": {
      "name": "python3",
      "display_name": "Python 3"
    },
    "language_info": {
      "name": "python"
    }
  },
  "cells": [
    {
      "cell_type": "markdown",
      "metadata": {
        "id": "view-in-github",
        "colab_type": "text"
      },
      "source": [
        "<a href=\"https://colab.research.google.com/github/hersan19/mcpr2024/blob/main/AG_MCPR2024.ipynb\" target=\"_parent\"><img src=\"https://colab.research.google.com/assets/colab-badge.svg\" alt=\"Open In Colab\"/></a>"
      ]
    },
    {
      "cell_type": "markdown",
      "source": [
        "**MCPR 2024**\n",
        "\n",
        "Tutorial: Neuroevolución\n",
        "\n",
        "Código: Algoritmo genético para el problema de las 8 reinas"
      ],
      "metadata": {
        "id": "d3irpOpxO5HA"
      }
    },
    {
      "cell_type": "markdown",
      "source": [
        "# Algoritmo Genético\n",
        "Problema de las 8 reinas\n",
        "\n",
        "Representación planteada:\n",
        "\n",
        "Permutaciones, la posición representa la columna y el valor del 0 al 7 representa la fila en la que se posiciona la reina."
      ],
      "metadata": {
        "id": "2df_cjhL6HOP"
      }
    },
    {
      "cell_type": "code",
      "execution_count": null,
      "metadata": {
        "id": "3GVNx5SI4wmU"
      },
      "outputs": [],
      "source": [
        "import random\n",
        "import copy\n",
        "import matplotlib.pyplot as plt\n",
        "\n",
        "ejemplo = [0, 1, 2, 3, 4, 5, 6, 7]"
      ]
    },
    {
      "cell_type": "code",
      "source": [
        "# La función decodifica hace la transición de la representación\n",
        "# genotípica a la fenotípica\n",
        "def decodifica (lista):\n",
        "  ceros = [[0, 0, 0, 0, 0, 0, 0, 0],\n",
        "           [0, 0, 0, 0, 0, 0, 0, 0],\n",
        "           [0, 0, 0, 0, 0, 0, 0, 0],\n",
        "           [0, 0, 0, 0, 0, 0, 0, 0],\n",
        "           [0, 0, 0, 0, 0, 0, 0, 0],\n",
        "           [0, 0, 0, 0, 0, 0, 0, 0],\n",
        "           [0, 0, 0, 0, 0, 0, 0, 0],\n",
        "           [0, 0, 0, 0, 0, 0, 0, 0]]\n",
        "  for con in range(8):\n",
        "    ceros[lista[con]][con] = 1\n",
        "  return ceros"
      ],
      "metadata": {
        "id": "ZZSXbpjUsMAi"
      },
      "execution_count": null,
      "outputs": []
    },
    {
      "cell_type": "markdown",
      "source": [
        "# Función de aptitud\n",
        "\n",
        "Conteo de ataques en un individuo"
      ],
      "metadata": {
        "id": "sNecEq9k-M1k"
      }
    },
    {
      "cell_type": "code",
      "source": [
        "# Cuenta cuántos elementos repetidos hay en una lista\n",
        "# Se tomará ese conteo para el número de ataques en el tablero\n",
        "def contrep (lista):\n",
        "  copia = lista.copy()\n",
        "  conteo = 0\n",
        "  while len(copia) > 0:\n",
        "    k = copia[0]\n",
        "    if k not in copia[1:]:\n",
        "      copia.pop(0)\n",
        "    else:\n",
        "      conta = 1\n",
        "      for elem in copia[1:]:\n",
        "        if elem == k:\n",
        "          conta += 1\n",
        "      conteo += conta\n",
        "      while conta > 0:\n",
        "        copia.remove(k)\n",
        "        conta = conta - 1\n",
        "  return conteo\n",
        "\n",
        "# Calcula el número de ataques en las diagonales\n",
        "def aptitud(indi, cont):\n",
        "  diagasc = []\n",
        "  diagdes = []\n",
        "  for col in range(8):\n",
        "    diagasc.append(indi[col] + col)\n",
        "    diagdes.append(indi[col] - col)\n",
        "  ataques = contrep(diagasc) + contrep(diagdes)\n",
        "  cont += 1\n",
        "  return ataques, cont"
      ],
      "metadata": {
        "id": "fBL4xUje-Lun"
      },
      "execution_count": null,
      "outputs": []
    },
    {
      "cell_type": "markdown",
      "source": [
        "# Población de soluciones\n",
        "\n",
        "Generar la población inicial."
      ],
      "metadata": {
        "id": "WrAkP53jQQb-"
      }
    },
    {
      "cell_type": "code",
      "source": [
        "# Genera soluciones aleatoriamente para conformar la población\n",
        "def pobini(cuantos, cont):\n",
        "  poblado = []\n",
        "  for miembro in range(cuantos):\n",
        "    base = [0, 1, 2, 3, 4, 5, 6, 7]\n",
        "    indiv = []\n",
        "    while len(base) > 0:\n",
        "      elemento = random.choice(base)\n",
        "      indiv.append(elemento)\n",
        "      base.remove(elemento)\n",
        "    valu, cont = aptitud(indiv, cont)\n",
        "    indiv_eval = [indiv, valu]\n",
        "    poblado.append(indiv_eval)\n",
        "  return poblado, cont"
      ],
      "metadata": {
        "id": "oXJnJDbNAtt3"
      },
      "execution_count": null,
      "outputs": []
    },
    {
      "cell_type": "markdown",
      "source": [
        "# Mecanismo de selección de padres\n",
        "\n",
        "Torneo: seleccionar aleatoriamente 5 individuos e incluir los mejores dos como padres."
      ],
      "metadata": {
        "id": "UIjQvo8STyKn"
      }
    },
    {
      "cell_type": "code",
      "source": [
        "def sele_pad (poblac):\n",
        "  sel_5 = random.choices(poblac, k=5)\n",
        "  sel_5.sort(key=lambda x: x[1])\n",
        "  best_2 = [sel_5[0], sel_5[1]]\n",
        "  return best_2"
      ],
      "metadata": {
        "id": "93HyPbyCHapc"
      },
      "execution_count": null,
      "outputs": []
    },
    {
      "cell_type": "markdown",
      "source": [
        "# Operadores de variación\n",
        "\n",
        "Cruza y mutación"
      ],
      "metadata": {
        "id": "vExgEBBbt2ND"
      }
    },
    {
      "cell_type": "code",
      "source": [
        "# Determina un punto de corte aleatorio y posteriormente genera a\n",
        "# descendientes, los completa si es necesario.\n",
        "def cruza(pad1, pad2):\n",
        "  cpad1 = copy.deepcopy(pad1[0])\n",
        "  cpad2 = copy.deepcopy(pad2[0])\n",
        "  corte = random.randint(0,7)\n",
        "  descen1 = cpad1[0:corte]\n",
        "  for elm1 in cpad2[corte:]:\n",
        "    if elm1 not in descen1:\n",
        "      descen1.append(elm1)\n",
        "  descen2 = cpad2[0:corte]\n",
        "  for elm2 in cpad1[corte:]:\n",
        "    if elm2 not in descen2:\n",
        "      descen2.append(elm2)\n",
        "  # Completar si incompletos\n",
        "  if len(descen1) < 8:\n",
        "    ref = [0, 1, 2, 3, 4, 5, 6, 7]\n",
        "    for mie1 in descen1:\n",
        "      ref.remove(mie1)\n",
        "    for i1 in range(8 - len(descen1)):\n",
        "      anade = random.choice(ref)\n",
        "      descen1.append(anade)\n",
        "      ref.remove(anade)\n",
        "  if len(descen2) < 8:\n",
        "    ref = [0, 1, 2, 3, 4, 5, 6, 7]\n",
        "    for mie2 in descen2:\n",
        "      ref.remove(mie2)\n",
        "    for i2 in range(8 - len(descen2)):\n",
        "      anade = random.choice(ref)\n",
        "      descen2.append(anade)\n",
        "      ref.remove(anade)\n",
        "  descends = [descen1, descen2]\n",
        "  return descends\n",
        "\n",
        "# Determina dos posiciones aleatorias diferentes e intercambia\n",
        "# sus valores.\n",
        "def mutacion (son):\n",
        "  sonc = copy.deepcopy(son)\n",
        "  pos1 = random.randint(0, 7)\n",
        "  pos2 = random.randint(0, 7)\n",
        "  while pos1 == pos2:\n",
        "    pos2 = random.randint(0, 7)\n",
        "  a = sonc[pos1]\n",
        "  b = sonc[pos2]\n",
        "  son[pos2] = a\n",
        "  son[pos1] = b\n",
        "\n",
        "# Procedimiento de cruza y mutación\n",
        "def variacion (pads, p_cruz, p_muta, cont):\n",
        "  hij_evals = []\n",
        "  if p_cruz > random.random():\n",
        "    hijos = cruza(pads[0], pads[1])\n",
        "    for hij in hijos:\n",
        "      if p_muta > random.random():\n",
        "        mutacion(hij)\n",
        "      valu, cont = aptitud(hij, cont)\n",
        "      hijo_eval = [hij, valu]\n",
        "      hij_evals.append(hijo_eval)\n",
        "  return hij_evals, cont"
      ],
      "metadata": {
        "id": "6hoVMIAvKZwF"
      },
      "execution_count": null,
      "outputs": []
    },
    {
      "cell_type": "markdown",
      "source": [
        "# Mecanismo de reemplazo\n",
        "\n",
        "Selección de los mejores y descarte"
      ],
      "metadata": {
        "id": "6Qe7hw83NF9g"
      }
    },
    {
      "cell_type": "code",
      "source": [
        "# Ordena y va descartando al último elemento hasta tener\n",
        "# el tamaño de población planteado.\n",
        "def reemplazo (pobla, descen):\n",
        "  control = len(pobla)\n",
        "  pobla.extend(descen)\n",
        "  pobla.sort(key=lambda x: x[1])\n",
        "  while len(pobla) > control:\n",
        "    pobla.pop(-1)"
      ],
      "metadata": {
        "id": "sLjqMmLSrL2W"
      },
      "execution_count": null,
      "outputs": []
    },
    {
      "cell_type": "markdown",
      "source": [
        "# Algoritmo completo\n",
        "\n",
        "Implementación con las funciones elaboradas"
      ],
      "metadata": {
        "id": "RAGEVROLPWcH"
      }
    },
    {
      "cell_type": "code",
      "source": [
        "# Parámetros:\n",
        "#   tpob = tamaño de la población\n",
        "#   nevs = número de evaluaciones máximo\n",
        "#   pcr = procentaje de cruza\n",
        "#   pmu = porcentaje de mutación\n",
        "#   display: 1 para mostrar la mejor solución de cada generación\n",
        "#     con 0 el display se apaga.\n",
        "def evo8reinas(tpob, nevs, pcr, pmu, display):\n",
        "  control = 0\n",
        "  poblacion, control = pobini(tpob, control)\n",
        "  reg_sol = []\n",
        "  genera = 0\n",
        "  while control < nevs and poblacion[0][1] > 0:\n",
        "    padres = sele_pad(poblacion)\n",
        "    hijos, control = variacion(padres, pcr, pmu, control)\n",
        "    reemplazo(poblacion, hijos)\n",
        "    reg_sol.append(poblacion[0][1])\n",
        "    if display == 1:\n",
        "      print(\"\\nGeneración: \", genera)\n",
        "      print(\"Mejor solución: \\n\")\n",
        "      print(poblacion[0][0])\n",
        "      print(\"\\nDecodificación: \\n\")\n",
        "      for lista in decodifica(poblacion[0][0]):\n",
        "        print(lista)\n",
        "      print(\"\\nCantidad de ataques: {}\\n\".format(poblacion[0][1]))\n",
        "    genera += 1\n",
        "  solu = poblacion[0]\n",
        "  if display == 1:\n",
        "    print(\"-------------------------------------------------------\\n\")\n",
        "  print(\"RESULTADOS FINALES:\")\n",
        "  if solu[1] == 0:\n",
        "    print(\"\\nLa ejecución fue exitosa.\")\n",
        "    print(\"\\nCantidad de generaciones: {}\".format(genera))\n",
        "    print(\"Evaluaciones requeridas: \", control)\n",
        "    print(\"Solución encontrada:\\n\")\n",
        "    print(solu[0])\n",
        "    print(\"\\nDecodificación: \\n\")\n",
        "    for lista2 in decodifica(solu[0]):\n",
        "      print(lista2)\n",
        "  else:\n",
        "    print(\"\\nLa ejecución NO fue exitosa.\")\n",
        "    print(\"\\nMenor cantidad de ataques: \", solu[8])\n",
        "    print(\"Tablero:\\n\")\n",
        "    print(solu[0][0])\n",
        "    print(\"\\nDecodificación: \\n\")\n",
        "    for lista2 in decodifica(solu[0]):\n",
        "      print(lista2)\n",
        "  return reg_sol, solu, control"
      ],
      "metadata": {
        "id": "OuNyFzl-r6vq"
      },
      "execution_count": null,
      "outputs": []
    },
    {
      "cell_type": "code",
      "source": [
        "# Tamaño de población:\n",
        "poblac = 100\n",
        "# Número máximo de evaluaciones:\n",
        "numeval = 10000\n",
        "# Porcentaje de cruza (de 0 a 100):\n",
        "pcruza = 100\n",
        "# Porcentaje de mutación (de 0 a 100):\n",
        "pmuta = 80\n",
        "# Desplegar los detalles de cada generación en la ejecución.\n",
        "# sí = 1, no = 0.\n",
        "displayon = 0\n",
        "\n",
        "\n",
        "evolucion, soluc, evals = evo8reinas(poblac, numeval, pcruza/100, pmuta/100, displayon)\n",
        "\n",
        "print(\"\")\n",
        "ejex = [n for n in range(1, len(evolucion) + 1)]\n",
        "plt.figure(figsize=(8,6))\n",
        "plt.style.use(\"Solarize_Light2\")\n",
        "plt.plot(ejex, evolucion, marker='', linewidth=4.0, label=\"Best individual\")\n",
        "plt.legend()\n",
        "plt.title(\"Gráfica de convergencia\")\n",
        "plt.xlabel(\"Generación\")\n",
        "plt.ylabel(\"Aptitud del mejor individuo\")\n",
        "plt.ylim(bottom=0)\n",
        "plt.show()"
      ],
      "metadata": {
        "id": "IpQsUNKHtG0h"
      },
      "execution_count": null,
      "outputs": []
    }
  ]
}